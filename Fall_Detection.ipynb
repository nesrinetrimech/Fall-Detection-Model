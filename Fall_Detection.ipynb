{
  "nbformat": 4,
  "nbformat_minor": 0,
  "metadata": {
    "colab": {
      "name": "Fall Detection.ipynb",
      "provenance": [],
      "collapsed_sections": [],
      "toc_visible": true,
      "authorship_tag": "ABX9TyNEo0oPAabkfAsjxzcv1MRP",
      "include_colab_link": true
    },
    "kernelspec": {
      "name": "python3",
      "display_name": "Python 3"
    },
    "language_info": {
      "name": "python"
    }
  },
  "cells": [
    {
      "cell_type": "markdown",
      "metadata": {
        "id": "view-in-github",
        "colab_type": "text"
      },
      "source": [
        "<a href=\"https://colab.research.google.com/github/nesrinetrimech/Fall-Detection-Model/blob/main/Fall_Detection.ipynb\" target=\"_parent\"><img src=\"https://colab.research.google.com/assets/colab-badge.svg\" alt=\"Open In Colab\"/></a>"
      ]
    },
    {
      "cell_type": "code",
      "execution_count": null,
      "metadata": {
        "id": "F3blbsEOipLs"
      },
      "outputs": [],
      "source": [
        "import sklearn\n",
        "from sklearn.utils import shuffle\n",
        "from sklearn.neighbors import KNeighborsClassifier\n",
        "from sklearn import linear_model, preprocessing\n",
        "import pandas as pd\n",
        "import numpy as np"
      ]
    },
    {
      "cell_type": "code",
      "source": [
        "data = pd.read_csv(\"data.csv\")"
      ],
      "metadata": {
        "id": "gXRD5eYIjLD3"
      },
      "execution_count": null,
      "outputs": []
    },
    {
      "cell_type": "code",
      "source": [
        "print (data)"
      ],
      "metadata": {
        "colab": {
          "base_uri": "https://localhost:8080/"
        },
        "id": "AT3PBUP4jrmP",
        "outputId": "37c31ede-cd43-4bab-abd7-61f8f4d3b679"
      },
      "execution_count": null,
      "outputs": [
        {
          "output_type": "stream",
          "name": "stdout",
          "text": [
            "      Accelerometer  Decision \n",
            "0               1.0          1\n",
            "1               1.0          2\n",
            "2               0.0          0\n",
            "3               1.0          1\n",
            "4               0.0          0\n",
            "...             ...        ...\n",
            "2034            1.0          2\n",
            "2035            1.0          2\n",
            "2036            1.0          1\n",
            "2037            1.0          2\n",
            "2038            0.0          0\n",
            "\n",
            "[2039 rows x 2 columns]\n"
          ]
        }
      ]
    },
    {
      "cell_type": "code",
      "source": [
        "data.columns"
      ],
      "metadata": {
        "colab": {
          "base_uri": "https://localhost:8080/"
        },
        "id": "06HUIXqJoZbK",
        "outputId": "acafe5f2-f21e-4462-9496-b12376c2630c"
      },
      "execution_count": null,
      "outputs": [
        {
          "output_type": "execute_result",
          "data": {
            "text/plain": [
              "Index(['Accelerometer', 'Decision '], dtype='object')"
            ]
          },
          "metadata": {},
          "execution_count": 12
        }
      ]
    },
    {
      "cell_type": "code",
      "source": [
        "Accelerometer = list(data[\"Accelerometer\"])"
      ],
      "metadata": {
        "id": "45wTkUCJKf1s"
      },
      "execution_count": null,
      "outputs": []
    },
    {
      "cell_type": "code",
      "source": [
        "Decision = list(data[\"Decision \"])"
      ],
      "metadata": {
        "id": "QDRZ_w4MKmy1"
      },
      "execution_count": null,
      "outputs": []
    },
    {
      "cell_type": "code",
      "source": [
        "predict = \"class\""
      ],
      "metadata": {
        "id": "tNppVexvWkXw"
      },
      "execution_count": null,
      "outputs": []
    },
    {
      "cell_type": "code",
      "source": [
        "X = list(zip(Accelerometer))\n",
        "Y = list(Decision)\n"
      ],
      "metadata": {
        "id": "b3RHLJwnWloe"
      },
      "execution_count": null,
      "outputs": []
    },
    {
      "cell_type": "code",
      "source": [
        "x_train, x_test, y_train, y_test = sklearn.model_selection.train_test_split(X,Y, test_size=0.1)"
      ],
      "metadata": {
        "id": "REj7emqDWur7"
      },
      "execution_count": null,
      "outputs": []
    },
    {
      "cell_type": "code",
      "source": [
        "model = KNeighborsClassifier(n_neighbors=3)"
      ],
      "metadata": {
        "id": "IDNNSDQvWx9D"
      },
      "execution_count": null,
      "outputs": []
    },
    {
      "cell_type": "code",
      "source": [
        "model.fit(x_train, y_train)\n",
        "acc = model.score(x_test, y_test)\n",
        "print(acc)"
      ],
      "metadata": {
        "colab": {
          "base_uri": "https://localhost:8080/"
        },
        "id": "h1wNclUGW1Zf",
        "outputId": "aebee88d-c9ff-4977-93a6-b09d84e860fb"
      },
      "execution_count": null,
      "outputs": [
        {
          "output_type": "stream",
          "name": "stdout",
          "text": [
            "0.6470588235294118\n"
          ]
        }
      ]
    },
    {
      "cell_type": "code",
      "source": [
        "error = 1 - model.score(x_test, y_test)\n",
        "print('Erreur: %f' % error)"
      ],
      "metadata": {
        "colab": {
          "base_uri": "https://localhost:8080/"
        },
        "id": "aghAPyZDgSRo",
        "outputId": "415e7ee7-5911-4409-871b-6b4207c6ba95"
      },
      "execution_count": null,
      "outputs": [
        {
          "output_type": "stream",
          "name": "stdout",
          "text": [
            "Erreur: 0.352941\n"
          ]
        }
      ]
    },
    {
      "cell_type": "code",
      "source": [
        "#look closely about wheather each train and test is correct\n",
        "predicted = model.predict(x_test)\n",
        "naems = [\"unacc\", \"acc\", \"good\", \"very good\"]\n",
        "for x in range(len(predicted)):\n",
        "    print(\"Predicted: \", predicted[x], \"data: \", x_test[x], \"Actual:\", y_test[x] )\n",
        "    n=model.kneighbors([x_test[x]], 1, True)\n",
        "    print(n)"
      ],
      "metadata": {
        "colab": {
          "base_uri": "https://localhost:8080/"
        },
        "id": "1yGp0NSZW695",
        "outputId": "8ddf3756-58db-44f9-9bd3-0e8416da2620"
      },
      "execution_count": null,
      "outputs": [
        {
          "output_type": "stream",
          "name": "stdout",
          "text": [
            "Predicted:  0 data:  (0.0,) Actual: 0\n",
            "(array([[0.]]), array([[59]]))\n",
            "Predicted:  2 data:  (1.0,) Actual: 2\n",
            "(array([[0.]]), array([[3]]))\n",
            "Predicted:  2 data:  (1.0,) Actual: 2\n",
            "(array([[0.]]), array([[3]]))\n",
            "Predicted:  2 data:  (1.0,) Actual: 1\n",
            "(array([[0.]]), array([[3]]))\n",
            "Predicted:  0 data:  (0.0,) Actual: 0\n",
            "(array([[0.]]), array([[59]]))\n",
            "Predicted:  2 data:  (1.0,) Actual: 2\n",
            "(array([[0.]]), array([[3]]))\n",
            "Predicted:  2 data:  (1.0,) Actual: 2\n",
            "(array([[0.]]), array([[3]]))\n",
            "Predicted:  0 data:  (0.0,) Actual: 0\n",
            "(array([[0.]]), array([[59]]))\n",
            "Predicted:  2 data:  (1.0,) Actual: 1\n",
            "(array([[0.]]), array([[3]]))\n",
            "Predicted:  2 data:  (1.0,) Actual: 2\n",
            "(array([[0.]]), array([[3]]))\n",
            "Predicted:  2 data:  (1.0,) Actual: 1\n",
            "(array([[0.]]), array([[3]]))\n",
            "Predicted:  0 data:  (0.0,) Actual: 0\n",
            "(array([[0.]]), array([[59]]))\n",
            "Predicted:  2 data:  (1.0,) Actual: 1\n",
            "(array([[0.]]), array([[3]]))\n",
            "Predicted:  2 data:  (1.0,) Actual: 2\n",
            "(array([[0.]]), array([[3]]))\n",
            "Predicted:  2 data:  (1.0,) Actual: 1\n",
            "(array([[0.]]), array([[3]]))\n",
            "Predicted:  2 data:  (1.0,) Actual: 2\n",
            "(array([[0.]]), array([[3]]))\n",
            "Predicted:  0 data:  (0.0,) Actual: 0\n",
            "(array([[0.]]), array([[59]]))\n",
            "Predicted:  0 data:  (0.0,) Actual: 0\n",
            "(array([[0.]]), array([[59]]))\n",
            "Predicted:  0 data:  (0.0,) Actual: 0\n",
            "(array([[0.]]), array([[59]]))\n",
            "Predicted:  2 data:  (1.0,) Actual: 1\n",
            "(array([[0.]]), array([[3]]))\n",
            "Predicted:  0 data:  (0.0,) Actual: 0\n",
            "(array([[0.]]), array([[59]]))\n",
            "Predicted:  0 data:  (0.0,) Actual: 0\n",
            "(array([[0.]]), array([[59]]))\n",
            "Predicted:  2 data:  (1.0,) Actual: 2\n",
            "(array([[0.]]), array([[3]]))\n",
            "Predicted:  0 data:  (0.0,) Actual: 0\n",
            "(array([[0.]]), array([[59]]))\n",
            "Predicted:  0 data:  (0.0,) Actual: 0\n",
            "(array([[0.]]), array([[59]]))\n",
            "Predicted:  2 data:  (1.0,) Actual: 1\n",
            "(array([[0.]]), array([[3]]))\n",
            "Predicted:  0 data:  (0.0,) Actual: 0\n",
            "(array([[0.]]), array([[59]]))\n",
            "Predicted:  2 data:  (1.0,) Actual: 2\n",
            "(array([[0.]]), array([[3]]))\n",
            "Predicted:  0 data:  (0.0,) Actual: 0\n",
            "(array([[0.]]), array([[59]]))\n",
            "Predicted:  2 data:  (1.0,) Actual: 2\n",
            "(array([[0.]]), array([[3]]))\n",
            "Predicted:  0 data:  (0.0,) Actual: 0\n",
            "(array([[0.]]), array([[59]]))\n",
            "Predicted:  2 data:  (1.0,) Actual: 1\n",
            "(array([[0.]]), array([[3]]))\n",
            "Predicted:  2 data:  (1.0,) Actual: 1\n",
            "(array([[0.]]), array([[3]]))\n",
            "Predicted:  0 data:  (0.0,) Actual: 0\n",
            "(array([[0.]]), array([[59]]))\n",
            "Predicted:  2 data:  (1.0,) Actual: 2\n",
            "(array([[0.]]), array([[3]]))\n",
            "Predicted:  0 data:  (0.0,) Actual: 0\n",
            "(array([[0.]]), array([[59]]))\n",
            "Predicted:  0 data:  (0.0,) Actual: 0\n",
            "(array([[0.]]), array([[59]]))\n",
            "Predicted:  2 data:  (1.0,) Actual: 1\n",
            "(array([[0.]]), array([[3]]))\n",
            "Predicted:  0 data:  (0.0,) Actual: 0\n",
            "(array([[0.]]), array([[59]]))\n",
            "Predicted:  0 data:  (0.0,) Actual: 0\n",
            "(array([[0.]]), array([[59]]))\n",
            "Predicted:  0 data:  (0.0,) Actual: 0\n",
            "(array([[0.]]), array([[59]]))\n",
            "Predicted:  2 data:  (1.0,) Actual: 2\n",
            "(array([[0.]]), array([[3]]))\n",
            "Predicted:  2 data:  (1.0,) Actual: 2\n",
            "(array([[0.]]), array([[3]]))\n",
            "Predicted:  2 data:  (1.0,) Actual: 2\n",
            "(array([[0.]]), array([[3]]))\n",
            "Predicted:  2 data:  (1.0,) Actual: 1\n",
            "(array([[0.]]), array([[3]]))\n",
            "Predicted:  2 data:  (1.0,) Actual: 2\n",
            "(array([[0.]]), array([[3]]))\n",
            "Predicted:  0 data:  (0.0,) Actual: 0\n",
            "(array([[0.]]), array([[59]]))\n",
            "Predicted:  2 data:  (1.0,) Actual: 1\n",
            "(array([[0.]]), array([[3]]))\n",
            "Predicted:  2 data:  (1.0,) Actual: 2\n",
            "(array([[0.]]), array([[3]]))\n",
            "Predicted:  2 data:  (1.0,) Actual: 2\n",
            "(array([[0.]]), array([[3]]))\n",
            "Predicted:  2 data:  (1.0,) Actual: 1\n",
            "(array([[0.]]), array([[3]]))\n",
            "Predicted:  2 data:  (1.0,) Actual: 1\n",
            "(array([[0.]]), array([[3]]))\n",
            "Predicted:  0 data:  (0.0,) Actual: 0\n",
            "(array([[0.]]), array([[59]]))\n",
            "Predicted:  2 data:  (1.0,) Actual: 1\n",
            "(array([[0.]]), array([[3]]))\n",
            "Predicted:  2 data:  (1.0,) Actual: 1\n",
            "(array([[0.]]), array([[3]]))\n",
            "Predicted:  0 data:  (0.0,) Actual: 0\n",
            "(array([[0.]]), array([[59]]))\n",
            "Predicted:  2 data:  (1.0,) Actual: 2\n",
            "(array([[0.]]), array([[3]]))\n",
            "Predicted:  2 data:  (1.0,) Actual: 2\n",
            "(array([[0.]]), array([[3]]))\n",
            "Predicted:  2 data:  (1.0,) Actual: 2\n",
            "(array([[0.]]), array([[3]]))\n",
            "Predicted:  2 data:  (1.0,) Actual: 1\n",
            "(array([[0.]]), array([[3]]))\n",
            "Predicted:  0 data:  (0.0,) Actual: 0\n",
            "(array([[0.]]), array([[59]]))\n",
            "Predicted:  2 data:  (1.0,) Actual: 1\n",
            "(array([[0.]]), array([[3]]))\n",
            "Predicted:  2 data:  (1.0,) Actual: 1\n",
            "(array([[0.]]), array([[3]]))\n",
            "Predicted:  2 data:  (1.0,) Actual: 2\n",
            "(array([[0.]]), array([[3]]))\n",
            "Predicted:  0 data:  (0.0,) Actual: 0\n",
            "(array([[0.]]), array([[59]]))\n",
            "Predicted:  0 data:  (0.0,) Actual: 0\n",
            "(array([[0.]]), array([[59]]))\n",
            "Predicted:  2 data:  (1.0,) Actual: 2\n",
            "(array([[0.]]), array([[3]]))\n",
            "Predicted:  2 data:  (1.0,) Actual: 1\n",
            "(array([[0.]]), array([[3]]))\n",
            "Predicted:  0 data:  (0.0,) Actual: 0\n",
            "(array([[0.]]), array([[59]]))\n",
            "Predicted:  2 data:  (1.0,) Actual: 2\n",
            "(array([[0.]]), array([[3]]))\n",
            "Predicted:  0 data:  (0.0,) Actual: 0\n",
            "(array([[0.]]), array([[59]]))\n",
            "Predicted:  0 data:  (0.0,) Actual: 0\n",
            "(array([[0.]]), array([[59]]))\n",
            "Predicted:  2 data:  (1.0,) Actual: 1\n",
            "(array([[0.]]), array([[3]]))\n",
            "Predicted:  2 data:  (1.0,) Actual: 1\n",
            "(array([[0.]]), array([[3]]))\n",
            "Predicted:  2 data:  (1.0,) Actual: 1\n",
            "(array([[0.]]), array([[3]]))\n",
            "Predicted:  2 data:  (1.0,) Actual: 2\n",
            "(array([[0.]]), array([[3]]))\n",
            "Predicted:  2 data:  (1.0,) Actual: 2\n",
            "(array([[0.]]), array([[3]]))\n",
            "Predicted:  2 data:  (1.0,) Actual: 2\n",
            "(array([[0.]]), array([[3]]))\n",
            "Predicted:  0 data:  (0.0,) Actual: 0\n",
            "(array([[0.]]), array([[59]]))\n",
            "Predicted:  2 data:  (1.0,) Actual: 1\n",
            "(array([[0.]]), array([[3]]))\n",
            "Predicted:  2 data:  (1.0,) Actual: 1\n",
            "(array([[0.]]), array([[3]]))\n",
            "Predicted:  2 data:  (1.0,) Actual: 1\n",
            "(array([[0.]]), array([[3]]))\n",
            "Predicted:  0 data:  (0.0,) Actual: 0\n",
            "(array([[0.]]), array([[59]]))\n",
            "Predicted:  2 data:  (1.0,) Actual: 2\n",
            "(array([[0.]]), array([[3]]))\n",
            "Predicted:  2 data:  (1.0,) Actual: 2\n",
            "(array([[0.]]), array([[3]]))\n",
            "Predicted:  2 data:  (1.0,) Actual: 2\n",
            "(array([[0.]]), array([[3]]))\n",
            "Predicted:  2 data:  (1.0,) Actual: 1\n",
            "(array([[0.]]), array([[3]]))\n",
            "Predicted:  2 data:  (1.0,) Actual: 2\n",
            "(array([[0.]]), array([[3]]))\n",
            "Predicted:  2 data:  (1.0,) Actual: 1\n",
            "(array([[0.]]), array([[3]]))\n",
            "Predicted:  0 data:  (0.0,) Actual: 0\n",
            "(array([[0.]]), array([[59]]))\n",
            "Predicted:  2 data:  (1.0,) Actual: 2\n",
            "(array([[0.]]), array([[3]]))\n",
            "Predicted:  2 data:  (1.0,) Actual: 2\n",
            "(array([[0.]]), array([[3]]))\n",
            "Predicted:  2 data:  (1.0,) Actual: 1\n",
            "(array([[0.]]), array([[3]]))\n",
            "Predicted:  2 data:  (1.0,) Actual: 1\n",
            "(array([[0.]]), array([[3]]))\n",
            "Predicted:  0 data:  (0.0,) Actual: 0\n",
            "(array([[0.]]), array([[59]]))\n",
            "Predicted:  2 data:  (1.0,) Actual: 2\n",
            "(array([[0.]]), array([[3]]))\n",
            "Predicted:  0 data:  (0.0,) Actual: 0\n",
            "(array([[0.]]), array([[59]]))\n",
            "Predicted:  2 data:  (1.0,) Actual: 2\n",
            "(array([[0.]]), array([[3]]))\n",
            "Predicted:  0 data:  (0.0,) Actual: 0\n",
            "(array([[0.]]), array([[59]]))\n",
            "Predicted:  0 data:  (0.0,) Actual: 0\n",
            "(array([[0.]]), array([[59]]))\n",
            "Predicted:  2 data:  (1.0,) Actual: 1\n",
            "(array([[0.]]), array([[3]]))\n",
            "Predicted:  2 data:  (1.0,) Actual: 2\n",
            "(array([[0.]]), array([[3]]))\n",
            "Predicted:  2 data:  (1.0,) Actual: 2\n",
            "(array([[0.]]), array([[3]]))\n",
            "Predicted:  2 data:  (1.0,) Actual: 1\n",
            "(array([[0.]]), array([[3]]))\n",
            "Predicted:  0 data:  (0.0,) Actual: 0\n",
            "(array([[0.]]), array([[59]]))\n",
            "Predicted:  0 data:  (0.0,) Actual: 0\n",
            "(array([[0.]]), array([[59]]))\n",
            "Predicted:  0 data:  (0.0,) Actual: 0\n",
            "(array([[0.]]), array([[59]]))\n",
            "Predicted:  2 data:  (1.0,) Actual: 2\n",
            "(array([[0.]]), array([[3]]))\n",
            "Predicted:  2 data:  (1.0,) Actual: 2\n",
            "(array([[0.]]), array([[3]]))\n",
            "Predicted:  2 data:  (1.0,) Actual: 1\n",
            "(array([[0.]]), array([[3]]))\n",
            "Predicted:  0 data:  (0.0,) Actual: 0\n",
            "(array([[0.]]), array([[59]]))\n",
            "Predicted:  2 data:  (1.0,) Actual: 2\n",
            "(array([[0.]]), array([[3]]))\n",
            "Predicted:  2 data:  (1.0,) Actual: 2\n",
            "(array([[0.]]), array([[3]]))\n",
            "Predicted:  2 data:  (1.0,) Actual: 2\n",
            "(array([[0.]]), array([[3]]))\n",
            "Predicted:  2 data:  (1.0,) Actual: 1\n",
            "(array([[0.]]), array([[3]]))\n",
            "Predicted:  2 data:  (1.0,) Actual: 2\n",
            "(array([[0.]]), array([[3]]))\n",
            "Predicted:  2 data:  (1.0,) Actual: 1\n",
            "(array([[0.]]), array([[3]]))\n",
            "Predicted:  2 data:  (1.0,) Actual: 2\n",
            "(array([[0.]]), array([[3]]))\n",
            "Predicted:  2 data:  (1.0,) Actual: 2\n",
            "(array([[0.]]), array([[3]]))\n",
            "Predicted:  2 data:  (1.0,) Actual: 1\n",
            "(array([[0.]]), array([[3]]))\n",
            "Predicted:  2 data:  (1.0,) Actual: 2\n",
            "(array([[0.]]), array([[3]]))\n",
            "Predicted:  2 data:  (1.0,) Actual: 1\n",
            "(array([[0.]]), array([[3]]))\n",
            "Predicted:  0 data:  (0.0,) Actual: 0\n",
            "(array([[0.]]), array([[59]]))\n",
            "Predicted:  2 data:  (1.0,) Actual: 1\n",
            "(array([[0.]]), array([[3]]))\n",
            "Predicted:  2 data:  (1.0,) Actual: 1\n",
            "(array([[0.]]), array([[3]]))\n",
            "Predicted:  2 data:  (1.0,) Actual: 2\n",
            "(array([[0.]]), array([[3]]))\n",
            "Predicted:  2 data:  (1.0,) Actual: 1\n",
            "(array([[0.]]), array([[3]]))\n",
            "Predicted:  0 data:  (0.0,) Actual: 0\n",
            "(array([[0.]]), array([[59]]))\n",
            "Predicted:  2 data:  (1.0,) Actual: 1\n",
            "(array([[0.]]), array([[3]]))\n",
            "Predicted:  2 data:  (1.0,) Actual: 2\n",
            "(array([[0.]]), array([[3]]))\n",
            "Predicted:  2 data:  (1.0,) Actual: 1\n",
            "(array([[0.]]), array([[3]]))\n",
            "Predicted:  0 data:  (0.0,) Actual: 0\n",
            "(array([[0.]]), array([[59]]))\n",
            "Predicted:  0 data:  (0.0,) Actual: 0\n",
            "(array([[0.]]), array([[59]]))\n",
            "Predicted:  2 data:  (1.0,) Actual: 2\n",
            "(array([[0.]]), array([[3]]))\n",
            "Predicted:  2 data:  (1.0,) Actual: 1\n",
            "(array([[0.]]), array([[3]]))\n",
            "Predicted:  2 data:  (1.0,) Actual: 1\n",
            "(array([[0.]]), array([[3]]))\n",
            "Predicted:  2 data:  (1.0,) Actual: 2\n",
            "(array([[0.]]), array([[3]]))\n",
            "Predicted:  0 data:  (0.0,) Actual: 0\n",
            "(array([[0.]]), array([[59]]))\n",
            "Predicted:  0 data:  (0.0,) Actual: 0\n",
            "(array([[0.]]), array([[59]]))\n",
            "Predicted:  0 data:  (0.0,) Actual: 0\n",
            "(array([[0.]]), array([[59]]))\n",
            "Predicted:  2 data:  (1.0,) Actual: 1\n",
            "(array([[0.]]), array([[3]]))\n",
            "Predicted:  2 data:  (1.0,) Actual: 2\n",
            "(array([[0.]]), array([[3]]))\n",
            "Predicted:  0 data:  (0.0,) Actual: 0\n",
            "(array([[0.]]), array([[59]]))\n",
            "Predicted:  0 data:  (0.0,) Actual: 0\n",
            "(array([[0.]]), array([[59]]))\n",
            "Predicted:  2 data:  (1.0,) Actual: 1\n",
            "(array([[0.]]), array([[3]]))\n",
            "Predicted:  2 data:  (1.0,) Actual: 1\n",
            "(array([[0.]]), array([[3]]))\n",
            "Predicted:  2 data:  (1.0,) Actual: 2\n",
            "(array([[0.]]), array([[3]]))\n",
            "Predicted:  0 data:  (0.0,) Actual: 0\n",
            "(array([[0.]]), array([[59]]))\n",
            "Predicted:  2 data:  (1.0,) Actual: 1\n",
            "(array([[0.]]), array([[3]]))\n",
            "Predicted:  0 data:  (0.0,) Actual: 0\n",
            "(array([[0.]]), array([[59]]))\n",
            "Predicted:  0 data:  (0.0,) Actual: 0\n",
            "(array([[0.]]), array([[59]]))\n",
            "Predicted:  2 data:  (1.0,) Actual: 1\n",
            "(array([[0.]]), array([[3]]))\n",
            "Predicted:  2 data:  (1.0,) Actual: 1\n",
            "(array([[0.]]), array([[3]]))\n",
            "Predicted:  2 data:  (1.0,) Actual: 2\n",
            "(array([[0.]]), array([[3]]))\n",
            "Predicted:  2 data:  (1.0,) Actual: 1\n",
            "(array([[0.]]), array([[3]]))\n",
            "Predicted:  2 data:  (1.0,) Actual: 1\n",
            "(array([[0.]]), array([[3]]))\n",
            "Predicted:  2 data:  (1.0,) Actual: 2\n",
            "(array([[0.]]), array([[3]]))\n",
            "Predicted:  2 data:  (1.0,) Actual: 2\n",
            "(array([[0.]]), array([[3]]))\n",
            "Predicted:  2 data:  (1.0,) Actual: 2\n",
            "(array([[0.]]), array([[3]]))\n",
            "Predicted:  2 data:  (1.0,) Actual: 2\n",
            "(array([[0.]]), array([[3]]))\n",
            "Predicted:  0 data:  (0.0,) Actual: 0\n",
            "(array([[0.]]), array([[59]]))\n",
            "Predicted:  2 data:  (1.0,) Actual: 1\n",
            "(array([[0.]]), array([[3]]))\n",
            "Predicted:  2 data:  (1.0,) Actual: 1\n",
            "(array([[0.]]), array([[3]]))\n",
            "Predicted:  2 data:  (1.0,) Actual: 1\n",
            "(array([[0.]]), array([[3]]))\n",
            "Predicted:  2 data:  (1.0,) Actual: 1\n",
            "(array([[0.]]), array([[3]]))\n",
            "Predicted:  0 data:  (0.0,) Actual: 0\n",
            "(array([[0.]]), array([[59]]))\n",
            "Predicted:  2 data:  (1.0,) Actual: 1\n",
            "(array([[0.]]), array([[3]]))\n",
            "Predicted:  2 data:  (1.0,) Actual: 1\n",
            "(array([[0.]]), array([[3]]))\n",
            "Predicted:  0 data:  (0.0,) Actual: 0\n",
            "(array([[0.]]), array([[59]]))\n",
            "Predicted:  2 data:  (1.0,) Actual: 1\n",
            "(array([[0.]]), array([[3]]))\n",
            "Predicted:  2 data:  (1.0,) Actual: 1\n",
            "(array([[0.]]), array([[3]]))\n",
            "Predicted:  2 data:  (1.0,) Actual: 1\n",
            "(array([[0.]]), array([[3]]))\n",
            "Predicted:  0 data:  (0.0,) Actual: 0\n",
            "(array([[0.]]), array([[59]]))\n",
            "Predicted:  2 data:  (1.0,) Actual: 1\n",
            "(array([[0.]]), array([[3]]))\n",
            "Predicted:  2 data:  (1.0,) Actual: 1\n",
            "(array([[0.]]), array([[3]]))\n",
            "Predicted:  2 data:  (1.0,) Actual: 1\n",
            "(array([[0.]]), array([[3]]))\n",
            "Predicted:  2 data:  (1.0,) Actual: 2\n",
            "(array([[0.]]), array([[3]]))\n",
            "Predicted:  2 data:  (1.0,) Actual: 2\n",
            "(array([[0.]]), array([[3]]))\n",
            "Predicted:  2 data:  (1.0,) Actual: 1\n",
            "(array([[0.]]), array([[3]]))\n",
            "Predicted:  0 data:  (0.0,) Actual: 0\n",
            "(array([[0.]]), array([[59]]))\n",
            "Predicted:  2 data:  (1.0,) Actual: 2\n",
            "(array([[0.]]), array([[3]]))\n",
            "Predicted:  2 data:  (1.0,) Actual: 1\n",
            "(array([[0.]]), array([[3]]))\n",
            "Predicted:  0 data:  (0.0,) Actual: 0\n",
            "(array([[0.]]), array([[59]]))\n",
            "Predicted:  2 data:  (1.0,) Actual: 2\n",
            "(array([[0.]]), array([[3]]))\n",
            "Predicted:  2 data:  (1.0,) Actual: 1\n",
            "(array([[0.]]), array([[3]]))\n",
            "Predicted:  0 data:  (0.0,) Actual: 0\n",
            "(array([[0.]]), array([[59]]))\n",
            "Predicted:  0 data:  (0.0,) Actual: 0\n",
            "(array([[0.]]), array([[59]]))\n",
            "Predicted:  2 data:  (1.0,) Actual: 1\n",
            "(array([[0.]]), array([[3]]))\n",
            "Predicted:  2 data:  (1.0,) Actual: 1\n",
            "(array([[0.]]), array([[3]]))\n",
            "Predicted:  0 data:  (0.0,) Actual: 0\n",
            "(array([[0.]]), array([[59]]))\n",
            "Predicted:  2 data:  (1.0,) Actual: 1\n",
            "(array([[0.]]), array([[3]]))\n",
            "Predicted:  0 data:  (0.0,) Actual: 0\n",
            "(array([[0.]]), array([[59]]))\n",
            "Predicted:  0 data:  (0.0,) Actual: 0\n",
            "(array([[0.]]), array([[59]]))\n",
            "Predicted:  0 data:  (0.0,) Actual: 0\n",
            "(array([[0.]]), array([[59]]))\n",
            "Predicted:  2 data:  (1.0,) Actual: 2\n",
            "(array([[0.]]), array([[3]]))\n",
            "Predicted:  2 data:  (1.0,) Actual: 1\n",
            "(array([[0.]]), array([[3]]))\n",
            "Predicted:  0 data:  (0.0,) Actual: 0\n",
            "(array([[0.]]), array([[59]]))\n",
            "Predicted:  0 data:  (0.0,) Actual: 0\n",
            "(array([[0.]]), array([[59]]))\n",
            "Predicted:  2 data:  (1.0,) Actual: 2\n",
            "(array([[0.]]), array([[3]]))\n",
            "Predicted:  2 data:  (1.0,) Actual: 2\n",
            "(array([[0.]]), array([[3]]))\n",
            "Predicted:  0 data:  (0.0,) Actual: 0\n",
            "(array([[0.]]), array([[59]]))\n",
            "Predicted:  2 data:  (1.0,) Actual: 2\n",
            "(array([[0.]]), array([[3]]))\n",
            "Predicted:  2 data:  (1.0,) Actual: 2\n",
            "(array([[0.]]), array([[3]]))\n",
            "Predicted:  2 data:  (1.0,) Actual: 1\n",
            "(array([[0.]]), array([[3]]))\n"
          ]
        }
      ]
    },
    {
      "cell_type": "code",
      "source": [
        "#predict from the give data and print out result\n",
        "print(model.predict([[0]]))"
      ],
      "metadata": {
        "colab": {
          "base_uri": "https://localhost:8080/"
        },
        "id": "y1xWKiJWXYYs",
        "outputId": "57ceae29-bfcd-4a62-b77a-acbc8f8165d4"
      },
      "execution_count": null,
      "outputs": [
        {
          "output_type": "stream",
          "name": "stdout",
          "text": [
            "[0]\n"
          ]
        }
      ]
    }
  ]
}